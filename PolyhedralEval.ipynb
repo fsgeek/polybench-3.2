{
 "cells": [
  {
   "cell_type": "markdown",
   "metadata": {},
   "source": [
    "# Polyhedral Optimization Evaluation\n",
    "\n",
    "The Polybench tests were used for doing polyhedral optimization - essentially, trying to improve locality of memory in algebra kernels selected from a range of different fields.  Thus, they are an appropriate tool for studying/analyzing the behavior of PMEM, particularly with respect to its locality.\n",
    "\n",
    "In late December 2019 I collected a series of data points for Polybench using Intel Optane DC Persistent Memory (Generation 1).  The system that I used deviates from the prior platform because the CPU was replaced.  Thus, I cannot directly compare this data.  This is the same memory, however, so I can still draw reasonable conclusions from this data and make normalized data comparisons (albeit carefully).\n",
    "\n",
    "```\n",
    "[tony@localhost polybench-3.2]$ lscpu\n",
    "Architecture:                    x86_64\n",
    "CPU op-mode(s):                  32-bit, 64-bit\n",
    "Byte Order:                      Little Endian\n",
    "Address sizes:                   46 bits physical, 48 bits virtual\n",
    "CPU(s):                          80\n",
    "On-line CPU(s) list:             0-79\n",
    "Thread(s) per core:              2\n",
    "Core(s) per socket:              20\n",
    "Socket(s):                       2\n",
    "NUMA node(s):                    2\n",
    "Vendor ID:                       GenuineIntel\n",
    "CPU family:                      6\n",
    "Model:                           85\n",
    "Model name:                      Genuine Intel(R) CPU 0000%@\n",
    "Stepping:                        6\n",
    "CPU MHz:                         1000.024\n",
    "CPU max MHz:                     3900.0000\n",
    "CPU min MHz:                     1000.0000\n",
    "BogoMIPS:                        5000.00\n",
    "Virtualization:                  VT-x\n",
    "L1d cache:                       1.3 MiB\n",
    "L1i cache:                       1.3 MiB\n",
    "L2 cache:                        40 MiB\n",
    "L3 cache:                        55 MiB\n",
    "NUMA node0 CPU(s):               0-19,40-59\n",
    "NUMA node1 CPU(s):               20-39,60-79\n",
    "Vulnerability L1tf:              Not affected\n",
    "Vulnerability Meltdown:          Not affected\n",
    "Vulnerability Spec store bypass: Mitigation; Speculative Store Bypass disabled via prctl and seccomp\n",
    "Vulnerability Spectre v1:        Mitigation; __user pointer sanitization\n",
    "Vulnerability Spectre v2:        Mitigation; Enhanced IBRS, IBPB conditional, RSB filling\n",
    "Flags:                           fpu vme de pse tsc msr pae mce cx8 apic sep mtrr pge mca cmov pat pse36 clflush dts acpi mmx fxsr sse\n",
    "                                  sse2 ss ht tm pbe syscall nx pdpe1gb rdtscp lm constant_tsc art arch_perfmon pebs bts rep_good nopl\n",
    "                                 xtopology nonstop_tsc cpuid aperfmperf pni pclmulqdq dtes64 monitor ds_cpl vmx smx est tm2 ssse3 sdbg\n",
    "                                  fma cx16 xtpr pdcm pcid dca sse4_1 sse4_2 x2apic movbe popcnt tsc_deadline_timer aes xsave avx f16c\n",
    "                                 rdrand lahf_lm abm 3dnowprefetch cpuid_fault epb cat_l3 cdp_l3 invpcid_single ssbd mba ibrs ibpb stib\n",
    "                                 p ibrs_enhanced tpr_shadow vnmi flexpriority ept vpid ept_ad fsgsbase tsc_adjust bmi1 hle avx2 smep b\n",
    "                                 mi2 erms invpcid rtm cqm mpx rdt_a avx512f avx512dq rdseed adx smap clflushopt clwb intel_pt avx512cd\n",
    "                                  avx512bw avx512vl xsaveopt xsavec xgetbv1 xsaves cqm_llc cqm_occup_llc cqm_mbm_total cqm_mbm_local d\n",
    "                                 therm ida arat pln pts hwp hwp_act_window hwp_epp hwp_pkg_req pku ospke avx512_vnni flush_l1d arch_ca\n",
    "                                 pabilities\n",
    "[tony@localhost polybench-3.2]$ uname -a\n",
    "Linux intelsdp1044 5.0.0+ #4 SMP Wed Sep 4 15:41:42 EDT 2019 x86_64 x86_64 x86_64 GNU/Linux\n",
    "```\n",
    "\n",
    "There are four fewer cores, but the L1, L2, and L3 caches are **substantially** larger.  This will have significant impact on the overall sytem performance.\n"
   ]
  },
  {
   "cell_type": "code",
   "execution_count": 1,
   "metadata": {},
   "outputs": [],
   "source": [
    "#!/usr/bin/python3\n",
    "\n",
    "import os\n",
    "import sys\n",
    "import matplotlib.pyplot as plt\n",
    "import matplotlib.dates as matdates\n",
    "import tikzplotlib\n",
    "import numpy as np\n",
    "import pandas as pd\n",
    "from collections import OrderedDict\n",
    "import locale\n",
    "import statistics\n",
    "from scipy.stats.mstats import gmean\n",
    "from cycler import cycler"
   ]
  },
  {
   "cell_type": "code",
   "execution_count": 14,
   "metadata": {},
   "outputs": [
    {
     "name": "stdout",
     "output_type": "stream",
     "text": [
      "comerge-pb-poly-results-2019_12_28__10_26_54: ['pb-dram2M-intelsdp1044-2019_12_28__10_26_54.log', 'pb-make-intelsdp1044-2019_12_28__10_26_54.log']\n",
      "\n",
      "comerge-pb-poly-results-2019_12_28__11_19_34: ['pb-dram4K-intelsdp1044-2019_12_28__11_19_34.log', 'pb-make-intelsdp1044-2019_12_28__11_19_34.log', 'pb-pmem3-intelsdp1044-2019_12_28__11_19_34.log', 'pb-pmem4-intelsdp1044-2019_12_28__11_19_34.log']\n",
      "\n",
      "comerge-pb-poly-results-2019_12_28__12_06_30: ['pb-dram4K-intelsdp1044-2019_12_28__12_06_30.log', 'pb-make-intelsdp1044-2019_12_28__12_06_30.log', 'pb-pmem3-intelsdp1044-2019_12_28__12_06_30.log', 'pb-pmem4-intelsdp1044-2019_12_28__12_06_30.log']\n",
      "\n",
      "comerge-pb-poly-results-2019_12_28__18_05_52: ['pb-pmem62M-intelsdp1044-2019_12_28__18_05_52.log', 'pb-pmem64K-intelsdp1044-2019_12_28__18_05_52.log']\n",
      "\n"
     ]
    }
   ],
   "source": [
    "# first, lets find the interesting directories\n",
    "dirs = [x for x in os.listdir('.') if 'comerge-pb-poly' in x]\n",
    "subdirs = {}\n",
    "for d in dirs:\n",
    "    subdirs[d] = [x for x in os.listdir(d)]\n",
    "\n",
    "for sd in subdirs: print('{}: {}\\n'.format(sd,subdirs[sd]))"
   ]
  },
  {
   "cell_type": "code",
   "execution_count": null,
   "metadata": {},
   "outputs": [],
   "source": []
  },
  {
   "cell_type": "code",
   "execution_count": null,
   "metadata": {},
   "outputs": [],
   "source": []
  }
 ],
 "metadata": {
  "kernelspec": {
   "display_name": "Python 3",
   "language": "python",
   "name": "python3"
  },
  "language_info": {
   "codemirror_mode": {
    "name": "ipython",
    "version": 3
   },
   "file_extension": ".py",
   "mimetype": "text/x-python",
   "name": "python",
   "nbconvert_exporter": "python",
   "pygments_lexer": "ipython3",
   "version": "3.7.3"
  }
 },
 "nbformat": 4,
 "nbformat_minor": 2
}
